{
 "cells": [
  {
   "cell_type": "code",
   "execution_count": 1,
   "id": "f5c67a57-6d32-43e9-9091-2b95f5f2ff18",
   "metadata": {
    "tags": []
   },
   "outputs": [],
   "source": [
    "import pandas as pd\n",
    "import os\n",
    "import matplotlib.pyplot as plt"
   ]
  },
  {
   "cell_type": "code",
   "execution_count": 2,
   "id": "758bd07c-c9ec-4492-ac31-f0a679f2312a",
   "metadata": {
    "tags": []
   },
   "outputs": [],
   "source": [
    "# File path\n",
    "os.chdir(\"../..\")\n",
    "home_dir = os.getcwd()\n",
    "sa_data_folder =  home_dir +'/data/PlasMAG/'\n",
    "sa_file_name = 'sa_2016_2023_raw.csv'\n",
    "#sa_file_name = 'dsc_fc_summed_spectra_2016_v01.csv'\n",
    "ou_file_name = 'satellite_data.csv'\n",
    "sa_file_path = sa_data_folder + sa_file_name\n",
    "ou_file_path = sa_data_folder + ou_file_name\n"
   ]
  },
  {
   "cell_type": "code",
   "execution_count": 3,
   "id": "a9c4f18a-0ae2-413a-9a8e-64463952b0e1",
   "metadata": {
    "tags": []
   },
   "outputs": [],
   "source": [
    "sa = pd.read_csv(sa_file_path, delimiter = ',', parse_dates=[0],  header = None, na_values=['0'])\n",
    "# set headers\n",
    "columns = [\"date\", \"MF_nT_GSE_x\",  \"MF_nT_GSE_y\", \"MF_nT_GSE_z\"]\n",
    "for i in range(4, 54):\n",
    "\tcolumns.append(f\"C_{i:02d}\")\n",
    "sa.columns = columns"
   ]
  },
  {
   "cell_type": "code",
   "execution_count": 18,
   "id": "29ac7483-5bb1-4938-b812-d261aa02e0ab",
   "metadata": {
    "tags": []
   },
   "outputs": [
    {
     "ename": "ValueError",
     "evalue": "The truth value of a Series is ambiguous. Use a.empty, a.bool(), a.item(), a.any() or a.all().",
     "output_type": "error",
     "traceback": [
      "\u001b[0;31m---------------------------------------------------------------------------\u001b[0m",
      "\u001b[0;31mValueError\u001b[0m                                Traceback (most recent call last)",
      "\u001b[0;32m/tmp/ipykernel_8365/3118737240.py\u001b[0m in \u001b[0;36m?\u001b[0;34m()\u001b[0m\n\u001b[0;32m----> 1\u001b[0;31m \u001b[0mdate_column\u001b[0m \u001b[0;34m=\u001b[0m \u001b[0msa\u001b[0m\u001b[0;34m[\u001b[0m\u001b[0;34m(\u001b[0m\u001b[0;34m'2016-01-01'\u001b[0m \u001b[0;34m<=\u001b[0m \u001b[0msa\u001b[0m\u001b[0;34m[\u001b[0m\u001b[0;34m'date'\u001b[0m\u001b[0;34m]\u001b[0m\u001b[0;34m)\u001b[0m \u001b[0;32mand\u001b[0m \u001b[0;34m(\u001b[0m\u001b[0msa\u001b[0m\u001b[0;34m[\u001b[0m\u001b[0;34m'date'\u001b[0m\u001b[0;34m]\u001b[0m \u001b[0;34m<=\u001b[0m \u001b[0;34m'2016-03-31'\u001b[0m\u001b[0;34m)\u001b[0m\u001b[0;34m]\u001b[0m\u001b[0;34m[\u001b[0m\u001b[0;34m'date'\u001b[0m\u001b[0;34m]\u001b[0m\u001b[0;34m\u001b[0m\u001b[0;34m\u001b[0m\u001b[0m\n\u001b[0m\u001b[1;32m      2\u001b[0m \u001b[0mday_of_week\u001b[0m \u001b[0;34m=\u001b[0m \u001b[0mdate_column\u001b[0m\u001b[0;34m.\u001b[0m\u001b[0mdt\u001b[0m\u001b[0;34m.\u001b[0m\u001b[0mdate\u001b[0m\u001b[0;34m\u001b[0m\u001b[0;34m\u001b[0m\u001b[0m\n\u001b[1;32m      3\u001b[0m \u001b[0mcount_per_day\u001b[0m \u001b[0;34m=\u001b[0m \u001b[0mday_of_week\u001b[0m\u001b[0;34m.\u001b[0m\u001b[0mvalue_counts\u001b[0m\u001b[0;34m(\u001b[0m\u001b[0;34m)\u001b[0m\u001b[0;34m\u001b[0m\u001b[0;34m\u001b[0m\u001b[0m\n\u001b[1;32m      4\u001b[0m \u001b[0mplt\u001b[0m\u001b[0;34m.\u001b[0m\u001b[0mplot\u001b[0m\u001b[0;34m(\u001b[0m\u001b[0mcount_per_day\u001b[0m\u001b[0;34m.\u001b[0m\u001b[0mindex\u001b[0m\u001b[0;34m,\u001b[0m \u001b[0mcount_per_day\u001b[0m\u001b[0;34m.\u001b[0m\u001b[0mvalues\u001b[0m\u001b[0;34m)\u001b[0m\u001b[0;34m\u001b[0m\u001b[0;34m\u001b[0m\u001b[0m\n",
      "\u001b[0;32m~/anaconda3/lib/python3.11/site-packages/pandas/core/generic.py\u001b[0m in \u001b[0;36m?\u001b[0;34m(self)\u001b[0m\n\u001b[1;32m   1464\u001b[0m     \u001b[0;34m@\u001b[0m\u001b[0mfinal\u001b[0m\u001b[0;34m\u001b[0m\u001b[0;34m\u001b[0m\u001b[0m\n\u001b[1;32m   1465\u001b[0m     \u001b[0;32mdef\u001b[0m \u001b[0m__nonzero__\u001b[0m\u001b[0;34m(\u001b[0m\u001b[0mself\u001b[0m\u001b[0;34m)\u001b[0m \u001b[0;34m->\u001b[0m \u001b[0mNoReturn\u001b[0m\u001b[0;34m:\u001b[0m\u001b[0;34m\u001b[0m\u001b[0;34m\u001b[0m\u001b[0m\n\u001b[0;32m-> 1466\u001b[0;31m         raise ValueError(\n\u001b[0m\u001b[1;32m   1467\u001b[0m             \u001b[0;34mf\"The truth value of a {type(self).__name__} is ambiguous. \"\u001b[0m\u001b[0;34m\u001b[0m\u001b[0;34m\u001b[0m\u001b[0m\n\u001b[1;32m   1468\u001b[0m             \u001b[0;34m\"Use a.empty, a.bool(), a.item(), a.any() or a.all().\"\u001b[0m\u001b[0;34m\u001b[0m\u001b[0;34m\u001b[0m\u001b[0m\n\u001b[1;32m   1469\u001b[0m         )\n",
      "\u001b[0;31mValueError\u001b[0m: The truth value of a Series is ambiguous. Use a.empty, a.bool(), a.item(), a.any() or a.all()."
     ]
    }
   ],
   "source": [
    "date_column = sa[('2016-01-01' <= sa['date']) and (sa['date'] <= '2016-03-31')]['date']\n",
    "day_of_week = date_column.dt.date\n",
    "count_per_day = day_of_week.value_counts()\n",
    "plt.plot(count_per_day.index, count_per_day.values)\n",
    "plt.xlabel('Day of the week')\n",
    "plt.ylabel('Row count')\n",
    "plt.title('Histogram of row count per day')\n",
    "plt.show()"
   ]
  },
  {
   "cell_type": "code",
   "execution_count": 16,
   "id": "707c7c61-85f5-41cd-9101-a0e21dfcc3a9",
   "metadata": {},
   "outputs": [
    {
     "data": {
      "text/plain": [
       "0         2016-01-01\n",
       "1         2016-01-01\n",
       "2         2016-01-01\n",
       "3         2016-01-01\n",
       "4         2016-01-01\n",
       "             ...    \n",
       "282236    2016-12-30\n",
       "282237    2016-12-30\n",
       "282238    2016-12-30\n",
       "282239    2016-12-30\n",
       "282240    2016-12-31\n",
       "Name: date, Length: 282241, dtype: object"
      ]
     },
     "execution_count": 16,
     "metadata": {},
     "output_type": "execute_result"
    }
   ],
   "source": [
    "day_of_week "
   ]
  },
  {
   "cell_type": "code",
   "execution_count": null,
   "id": "799c5655-3636-43e2-a2ea-9e18ce5bf7d5",
   "metadata": {},
   "outputs": [],
   "source": []
  }
 ],
 "metadata": {
  "kernelspec": {
   "display_name": "Python 3 (ipykernel)",
   "language": "python",
   "name": "python3"
  },
  "language_info": {
   "codemirror_mode": {
    "name": "ipython",
    "version": 3
   },
   "file_extension": ".py",
   "mimetype": "text/x-python",
   "name": "python",
   "nbconvert_exporter": "python",
   "pygments_lexer": "ipython3",
   "version": "3.11.5"
  }
 },
 "nbformat": 4,
 "nbformat_minor": 5
}
