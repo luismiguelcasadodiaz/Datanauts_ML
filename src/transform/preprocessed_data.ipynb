{
 "cells": [
  {
   "cell_type": "code",
   "execution_count": 1,
   "id": "04b42fa4",
   "metadata": {},
   "outputs": [],
   "source": [
    "# **************************************************************************** #\n",
    "#                                                                              #\n",
    "#                                                         :::      ::::::::    #\n",
    "#    satellite_transform.py                             :+:      :+:    :+:    #\n",
    "#                                                     +:+ +:+         +:+      #\n",
    "#    By: luicasad <luicasad@student.42.fr>          +#+  +:+       +#+         #\n",
    "#                                                 +#+#+#+#+#+   +#+            #\n",
    "#    Created: 2023/10/04 10:04:18 by luicasad          #+#    #+#              #\n",
    "#    Updated: 2023/10/04 17:07:30 by luicasad         ###   ########.fr        #\n",
    "#                                                                              #\n",
    "# **************************************************************************** #"
   ]
  },
  {
   "cell_type": "code",
   "execution_count": 2,
   "id": "797ff205",
   "metadata": {},
   "outputs": [],
   "source": [
    "import pandas as pd\n",
    "import os\n",
    "from sklearn.preprocessing import RobustScaler\n",
    "from sklearn.preprocessing import MinMaxScaler"
   ]
  },
  {
   "cell_type": "code",
   "execution_count": 3,
   "id": "c909b164",
   "metadata": {},
   "outputs": [],
   "source": [
    "pd.set_option('display.max_columns', 55) "
   ]
  },
  {
   "cell_type": "code",
   "execution_count": 4,
   "id": "1b366ff0",
   "metadata": {},
   "outputs": [],
   "source": [
    "def\tprint_head_tail(df):\n",
    "\tprint(df.iloc[[0,1, 2, 3, 4, 5, 6, 7, 8, 9, 10, df.index[-3],df.index[-2],df.index[-1]]])\n",
    "def save_transformed(df):\n",
    "\tprint(\"Saving transformed data.....\")\n",
    "\thome_dir = os.getcwd()\n",
    "\n",
    "\t# File path\n",
    "\ttr_data_folder =  home_dir +'/data/transformed/'\n",
    "\ttr_file_name = 'data_model_kp_sn_sat.csv'\n",
    "\ttr_file_path = tr_data_folder + tr_file_name\n",
    "\n",
    "\t# Save data\n",
    "\tdf.to_csv(tr_file_path, index= False)\n",
    "\t\n",
    "\n",
    "\n",
    "def get_kp_sn():\n",
    "    print(\"Reading Kp & sunspots ....\")\n",
    "    home_dir = os.getcwd()\n",
    "\n",
    "    # File path\n",
    "    jn_data_folder =  home_dir +'/data/Kp_index/'\n",
    "    jn_file_name = 'kp_sn_since_2016.csv'\n",
    "    jn_file_path = jn_data_folder + jn_file_name\n",
    "\n",
    "    # Ingest data\n",
    "    kp_sn = pd.read_csv(jn_file_path, delimiter=',', parse_dates=[0], header=0)\n",
    "    #print_head_tail(kp_sn)\n",
    "    print(\"The kp and sun spot has this shape\", kp_sn.shape)\n",
    "    return kp_sn\n",
    "\n",
    "def\tget_sa():\n",
    "\tprint(\"Reading satellite data ...\")\n",
    "\thome_dir = os.getcwd()\n",
    "\n",
    "\t# File path\n",
    "\tsa_data_folder =  home_dir +'/data/PlasMAG/'\n",
    "\tsa_file_name = 'satellite_data.csv'\n",
    "\tsa_file_path = sa_data_folder + sa_file_name\n",
    "\n",
    "\t# Ingest data\n",
    "\tsa = pd.read_csv(sa_file_path, delimiter = ',', parse_dates=[0],  header = 0)\n",
    "\n",
    "\tprint(\"The satellite data has this shape\", sa.shape)\n",
    "\treturn sa"
   ]
  },
  {
   "cell_type": "code",
   "execution_count": 5,
   "id": "170114d7",
   "metadata": {},
   "outputs": [],
   "source": [
    "def filter_rows_by_date_range(df, start_date, end_date):\n",
    "  \"\"\"Filters rows between two dates in a Pandas DataFrame.\n",
    "\t  [start_date,end_date[\n",
    "\t  end_date is not included\n",
    "  Args:\n",
    "    df: A Pandas DataFrame.\n",
    "    start_date: The start date of the date range.\n",
    "    end_date: The end date of the date range.\n",
    "\n",
    "  Returns:\n",
    "    A Pandas DataFrame containing the filtered rows.\n",
    "  \"\"\"\n",
    "\n",
    "  # Convert the start and end dates to datetime objects.\n",
    "  start_date = pd.to_datetime(start_date)\n",
    "  end_date = pd.to_datetime(end_date)\n",
    "\n",
    "  # Create a boolean mask to select rows where the date column is between the start and end dates.\n",
    "  mask = (df['date'] >= start_date) & (df['date'] < end_date)\n",
    "\n",
    "  # Select the rows from the DataFrame that match the boolean mask.\n",
    "  filtered_df = df.loc[mask]\n",
    "  return filtered_df"
   ]
  },
  {
   "cell_type": "code",
   "execution_count": 6,
   "id": "80600bf0",
   "metadata": {},
   "outputs": [],
   "source": [
    "def\tdataframe_to_row(kp_date,df, kp,sun_spot):\n",
    "    \"\"\" \n",
    "    Returns a df_row that concatenates all rows from df\n",
    "    \n",
    "    GETS\n",
    "    df\t\t: A pandas dataframe with 180 Rows from satellite data.\n",
    "             One per each minute of the 3 hour kp interval starting\n",
    "             at kp_date\n",
    "    kp_date\t: initial time of the 3-hour kp interval\n",
    "    kp\t\t: kp index for the interval\n",
    "    sun_spot: Num of sun spots counted by Royal observatory of Belgium\n",
    "\n",
    "    RETURNS\n",
    "    df_row\t: [kp_date, 180 x 53 = 9540 measures, sun_spot, Kp]\n",
    "\n",
    "    OPERATION\n",
    "            Insert, into the first position of a list, a date.\n",
    "            Loop over dataset rows (180)\n",
    "                Append to the list each column of the row\n",
    "            Append num of sun spots\n",
    "            Append kp\n",
    "            Convert the listo into a new data frame\n",
    "            Return new data fram transposed.\n",
    " \n",
    "\"\"\"\n",
    "    row_list = []\n",
    "    row_list.append(kp_date)\n",
    "    for row in df.itertuples():\n",
    "        for column_value in row[2:]:\n",
    "            row_list.append(column_value)\n",
    "    row_list.append(sun_spot)\n",
    "    row_list.append(kp)\n",
    "    df_col = pd.DataFrame(row_list)\n",
    "    df_row = df_col.T\n",
    "    return df_row\n"
   ]
  },
  {
   "cell_type": "code",
   "execution_count": 7,
   "id": "579c0ec0",
   "metadata": {},
   "outputs": [],
   "source": [
    "def prepare_dates(day, hour):\n",
    "\t\"\"\"\n",
    "\tGETS\n",
    "\tday\t\t:The Kp files timestamp refering to day start. always 00:00:00\n",
    "\thour\t:The hour of day (0, 3, 6, 9, 12, 15, 18, 21, 24) in which one eight \n",
    "\t\t\t of the day stars\n",
    "\n",
    "\tRETURNS\t:\n",
    "\tstart\t:The timestamp yyyy-mm-dd 00:00:00 plus a delta time to hour.\n",
    "\t\t\t in case of hour of ini = 9 ==> yyyy-mm-dd 09:00:00\n",
    "\tend\t\t:The timestamp yyyy-mm-dd 00:00:00 plus a delta time to hour ini \n",
    "\t\t\t plus 3 hours that is the Kp interval Length \n",
    "\t\"\"\"\n",
    "\tstart = day + pd.Timedelta(hours=(hour))\n",
    "\tend = day + pd.Timedelta(hours=hour + 3)\n",
    "\treturn start, end"
   ]
  },
  {
   "cell_type": "code",
   "execution_count": 10,
   "id": "e7423241",
   "metadata": {},
   "outputs": [],
   "source": [
    "def\ttransform(sa,  kp_sn):\n",
    "\t\"\"\"\n",
    "\tGETS:\n",
    "\tsa\t\t:A dataframe with one record per minute\n",
    "\tkp_sn\t:A dataframe with one record per each three hours\n",
    "\n",
    "\tRETURNS\n",
    "\tresult\t:A new dataframe with one record per each three hours, as defined\n",
    "\t\t\t by kp_sn, where each record has 9487 columns resulting of \n",
    "\t\t\t concatenate 180-record (three hours) from sa.\n",
    "\n",
    "\tOPERATION\n",
    "\t\t\tloop Kp index dataframe.\n",
    "\t\t\t\tfor each row filter satellite data by proper dates\n",
    "\t\t\t\tconcatenate them to get a (9354 x 1) data frame\n",
    "\t\t\t\tappend such dataframe into a list of dataframes\n",
    "\t\t\treturn the concatenation (UNION) of the dataframes in the list\n",
    "\t\"\"\"\n",
    "\tprint(\"Transforming data ....\")\n",
    "\tcounter = 0\n",
    "\tdataframes = []\n",
    "\tfor kp_row in kp_sn.itertuples():\n",
    "\t\tstart, end = prepare_dates(day=kp_row.date, hour=kp_row.hour_ini)\n",
    "\t\tfiltered_df = filter_rows_by_date_range(sa, start, end)\n",
    "\t\tif (len(filtered_df.index) != 0):\n",
    "\t\t\trow_df = dataframe_to_row(start, filtered_df,kp_row.kp, kp_row.sun_spot_norm)\n",
    "\t\t\tdataframes.append(row_df)\n",
    "\t\t\tcounter = counter + 1\n",
    "\t\telse:\n",
    "\t\t\tstart = start.strftime('%Y-%m-%d %X')\n",
    "\t\t\tend = end.strftime('%Y-%m-%d %X')\n",
    "\t\t\t#print(\"No satellite data in [{}, {}[\".format(start, end))\n",
    "\tresult = pd.concat(dataframes)\n",
    "\tprint(result.shape)\n",
    "\treturn result"
   ]
  },
  {
   "cell_type": "code",
   "execution_count": 9,
   "id": "c450a09c",
   "metadata": {},
   "outputs": [
    {
     "name": "stdout",
     "output_type": "stream",
     "text": [
      "Reading Kp & sunspots ....\n",
      "The kp and sun spot has this shape (22399, 4)\n",
      "Reading satellite data ...\n",
      "The satellite data has this shape (3265920, 54)\n"
     ]
    }
   ],
   "source": [
    "os.chdir(\"../..\")\n",
    "kp_sn = get_kp_sn()\n",
    "sa = get_sa()\n"
   ]
  },
  {
   "cell_type": "code",
   "execution_count": 11,
   "id": "d4aa314b",
   "metadata": {
    "scrolled": true
   },
   "outputs": [
    {
     "name": "stdout",
     "output_type": "stream",
     "text": [
      "Transforming data ....\n",
      "(18143, 9543)\n"
     ]
    }
   ],
   "source": [
    "transformed = transform(sa, kp_sn)\n"
   ]
  },
  {
   "cell_type": "code",
   "execution_count": 12,
   "id": "9ccd955b",
   "metadata": {},
   "outputs": [
    {
     "data": {
      "text/plain": [
       "'Transformed : 1321.08 Mbytes'"
      ]
     },
     "execution_count": 12,
     "metadata": {},
     "output_type": "execute_result"
    }
   ],
   "source": [
    "'Transformed : {:0.2f} Mbytes'.format(transformed.memory_usage().sum()/1024/1024)"
   ]
  },
  {
   "cell_type": "code",
   "execution_count": 13,
   "id": "75b05faf",
   "metadata": {},
   "outputs": [
    {
     "name": "stdout",
     "output_type": "stream",
     "text": [
      "(18143, 9543)\n",
      "Saving transformed data.....\n"
     ]
    }
   ],
   "source": [
    "print(transformed.shape)\n",
    "save_transformed(transformed)"
   ]
  },
  {
   "cell_type": "code",
   "execution_count": null,
   "id": "df23350c",
   "metadata": {},
   "outputs": [],
   "source": []
  }
 ],
 "metadata": {
  "kernelspec": {
   "display_name": "Python 3 (ipykernel)",
   "language": "python",
   "name": "python3"
  },
  "language_info": {
   "codemirror_mode": {
    "name": "ipython",
    "version": 3
   },
   "file_extension": ".py",
   "mimetype": "text/x-python",
   "name": "python",
   "nbconvert_exporter": "python",
   "pygments_lexer": "ipython3",
   "version": "3.9.13"
  }
 },
 "nbformat": 4,
 "nbformat_minor": 5
}
