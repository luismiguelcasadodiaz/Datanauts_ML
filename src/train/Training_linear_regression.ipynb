{
 "cells": [
  {
   "cell_type": "markdown",
   "id": "ee1e66ba",
   "metadata": {},
   "source": [
    "# Training the model"
   ]
  },
  {
   "cell_type": "code",
   "execution_count": 22,
   "id": "f8cf38d3",
   "metadata": {},
   "outputs": [],
   "source": [
    "import pandas as pd\n",
    "import os\n",
    "from sklearn.model_selection import train_test_split\n",
    "import joblib\n",
    "import pickle"
   ]
  },
  {
   "cell_type": "code",
   "execution_count": 23,
   "id": "a13791d8",
   "metadata": {},
   "outputs": [],
   "source": [
    "def get_data_model():\n",
    "    print(\"Data Model ....\")\n",
    "    home_dir = os.getcwd()\n",
    "\n",
    "    # File path\n",
    "    dm_data_folder =  home_dir +'/data/transformed/'\n",
    "    dm_file_name = 'data_model_kp_sn_sat.csv'\n",
    "    dm_file_path = dm_data_folder + dm_file_name\n",
    "\n",
    "    # Ingest data\n",
    "    dm = pd.read_csv(dm_file_path, delimiter=',', parse_dates=[0], header=0)\n",
    "    print(\"The data model has this shape\", dm.shape)\n",
    "    return dm"
   ]
  },
  {
   "cell_type": "code",
   "execution_count": 24,
   "id": "d69c4879",
   "metadata": {},
   "outputs": [
    {
     "name": "stdout",
     "output_type": "stream",
     "text": [
      "Data Model ....\n",
      "The data model has this shape (18143, 9543)\n"
     ]
    }
   ],
   "source": [
    "# Read data model\n",
    "dm = get_data_model()"
   ]
  },
  {
   "cell_type": "code",
   "execution_count": 25,
   "id": "06ba57db",
   "metadata": {},
   "outputs": [],
   "source": [
    "#convert it into arrays for our machine to process:\n",
    "values = dm.values"
   ]
  },
  {
   "cell_type": "markdown",
   "id": "abb2b927",
   "metadata": {},
   "source": [
    "#### 1.- Split our dataset into input features (X= 180 minutes of satellite data) and the feature we wish to predict (Y = kp)\n",
    "\n",
    "The datamodel has c column zero with a date.\n",
    "We remove the date from the date model."
   ]
  },
  {
   "cell_type": "code",
   "execution_count": 26,
   "id": "a4479efe",
   "metadata": {},
   "outputs": [],
   "source": [
    "X = values[:,1:9542]\n",
    "Y = values[:,9542]"
   ]
  },
  {
   "cell_type": "code",
   "execution_count": 27,
   "id": "363c596d",
   "metadata": {},
   "outputs": [],
   "source": [
    "train_size= 0.7\n",
    "test_size = 1 - train_size"
   ]
  },
  {
   "cell_type": "markdown",
   "id": "fa89506f",
   "metadata": {},
   "source": [
    "#### 2.- Split our dataset into a training set, a validation set and a test set. \n",
    "\n",
    "Our Data set contains 18143 records, from 01/01/2016 till 02/05/2023. There are two intervals of time when satellite did not generated data.\n",
    "\n",
    "|From       | to     |\n",
    "|-----------|--------|\n",
    "|14-01-2016|30-06-2021|\n",
    "|28-06-2019|24-02-2020|\n",
    "\n",
    "12 700 records from the Data set for training (70%)\n",
    "\n",
    "05 443 records form the Data set for testing and validation (30%)\n",
    "\n"
   ]
  },
  {
   "cell_type": "code",
   "execution_count": null,
   "id": "a63404f7",
   "metadata": {},
   "outputs": [],
   "source": [
    "X_train, X_val_and_test, Y_train, X_val_and_test = train_test_split(X, Y, test_size=test_size)\n",
    "print(X_train.shape, X_val_and_test.shape, Y_train.shape, Y_val_and_test)"
   ]
  },
  {
   "cell_type": "code",
   "execution_count": null,
   "id": "d951a4b4",
   "metadata": {},
   "outputs": [],
   "source": [
    "with open('X_train.pkl', 'wb') as f:\n",
    "    pickle.dump(X_train, f)\n",
    "\n",
    "with open('Y_train.pkl', 'wb') as f:\n",
    "    pickle.dump(X_test, f)"
   ]
  },
  {
   "cell_type": "markdown",
   "id": "15d3d993",
   "metadata": {},
   "source": [
    "#### 3.- testing and validation data set 50/50\n",
    " \n"
   ]
  },
  {
   "cell_type": "code",
   "execution_count": null,
   "id": "183324e7",
   "metadata": {},
   "outputs": [],
   "source": [
    "X_val, X_test, Y_val, Y_test = train_test_split(X_val_and_test, Y_val_and_test, test_size=0.5)\n",
    "print(X_val.shape, Y_test.shape, Y_val.shape, Y_test.shape)"
   ]
  },
  {
   "cell_type": "code",
   "execution_count": null,
   "id": "7c7f8a51",
   "metadata": {},
   "outputs": [],
   "source": [
    "with open('X_val.pkl', 'wb') as f:\n",
    "    pickle.dump(X_train, f)\n",
    "\n",
    "with open('Y_val.pkl', 'wb') as f:\n",
    "    pickle.dump(X_test, f)\n",
    "with open('X_test.pkl', 'wb') as f:\n",
    "    pickle.dump(X_train, f)\n",
    "\n",
    "with open('Y_test.pkl', 'wb') as f:\n",
    "    pickle.dump(X_test, f)"
   ]
  }
 ],
 "metadata": {
  "kernelspec": {
   "display_name": "Python 3 (ipykernel)",
   "language": "python",
   "name": "python3"
  },
  "language_info": {
   "codemirror_mode": {
    "name": "ipython",
    "version": 3
   },
   "file_extension": ".py",
   "mimetype": "text/x-python",
   "name": "python",
   "nbconvert_exporter": "python",
   "pygments_lexer": "ipython3",
   "version": "3.9.13"
  }
 },
 "nbformat": 4,
 "nbformat_minor": 5
}
